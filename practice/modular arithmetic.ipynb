{
 "cells": [
  {
   "cell_type": "code",
   "execution_count": 3,
   "id": "404869fa",
   "metadata": {},
   "outputs": [],
   "source": [
    "import os\n",
    "import sys\n",
    "from functools import partial\n",
    "from pathlib import Path\n",
    "\n",
    "import einops\n",
    "import numpy as np\n",
    "import torch as t\n",
    "import torch.nn.functional as F\n",
    "from huggingface_hub import hf_hub_download\n",
    "from jaxtyping import Float\n",
    "from torch import Tensor\n",
    "from tqdm import tqdm\n",
    "from transformer_lens import HookedTransformer, HookedTransformerConfig\n",
    "from transformer_lens.utils import to_numpy\n",
    "device = t.device(\"cuda\" if t.cuda.is_available() else \"cpu\")"
   ]
  },
  {
   "cell_type": "code",
   "execution_count": 4,
   "id": "2f9a808d",
   "metadata": {},
   "outputs": [],
   "source": [
    "p = 113\n",
    "\n",
    "cfg = HookedTransformerConfig(\n",
    "    n_layers=1,\n",
    "    d_vocab=p + 1,\n",
    "    d_model=128,\n",
    "    d_mlp=4 * 128,\n",
    "    n_heads=4,\n",
    "    d_head=128 // 4,\n",
    "    n_ctx=3,\n",
    "    act_fn=\"relu\",\n",
    "    normalization_type=None,\n",
    "    device=device,\n",
    ")\n",
    "\n",
    "model = HookedTransformer(cfg)"
   ]
  },
  {
   "cell_type": "code",
   "execution_count": 9,
   "id": "90c9cf1e",
   "metadata": {},
   "outputs": [
    {
     "data": {
      "text/plain": [
       "PosixPath('/Users/cohlem/Projects/Experimentation/MI/practice')"
      ]
     },
     "execution_count": 9,
     "metadata": {},
     "output_type": "execute_result"
    }
   ],
   "source": [
    "Path.cwd()"
   ]
  },
  {
   "cell_type": "code",
   "execution_count": 10,
   "id": "b9138dbe",
   "metadata": {},
   "outputs": [],
   "source": [
    "grokking_root = Path.cwd()"
   ]
  },
  {
   "cell_type": "code",
   "execution_count": 11,
   "id": "85f67422",
   "metadata": {},
   "outputs": [],
   "source": [
    "if not grokking_root.exists():\n",
    "    os.system(f'git clone https://github.com/neelnanda-io/Grokking.git \"{grokking_root.as_posix()}\"')\n",
    "    assert grokking_root.exists()\n",
    "    os.mkdir(grokking_root / \"large_files\")"
   ]
  },
  {
   "cell_type": "code",
   "execution_count": 17,
   "id": "cbc32c78",
   "metadata": {},
   "outputs": [
    {
     "ename": "NameError",
     "evalue": "name 'utils' is not defined",
     "output_type": "error",
     "traceback": [
      "\u001b[0;31m---------------------------------------------------------------------------\u001b[0m",
      "\u001b[0;31mNameError\u001b[0m                                 Traceback (most recent call last)",
      "Cell \u001b[0;32mIn[17], line 9\u001b[0m\n\u001b[1;32m      6\u001b[0m full_run_data \u001b[38;5;241m=\u001b[39m t\u001b[38;5;241m.\u001b[39mload(local_dir, weights_only\u001b[38;5;241m=\u001b[39m\u001b[38;5;28;01mTrue\u001b[39;00m, map_location\u001b[38;5;241m=\u001b[39mdevice)\n\u001b[1;32m      7\u001b[0m state_dict \u001b[38;5;241m=\u001b[39m full_run_data[\u001b[38;5;124m\"\u001b[39m\u001b[38;5;124mstate_dicts\u001b[39m\u001b[38;5;124m\"\u001b[39m][\u001b[38;5;241m400\u001b[39m]\n\u001b[0;32m----> 9\u001b[0m model \u001b[38;5;241m=\u001b[39m utils\u001b[38;5;241m.\u001b[39mload_in_state_dict(model, state_dict)\n",
      "\u001b[0;31mNameError\u001b[0m: name 'utils' is not defined"
     ]
    }
   ],
   "source": [
    "REPO_ID = \"callummcdougall/grokking_full_run_data\"\n",
    "FILENAME = \"full_run_data.pth\"\n",
    "\n",
    "local_dir = hf_hub_download(repo_id=REPO_ID, filename=FILENAME)\n",
    "\n",
    "full_run_data = t.load(local_dir, weights_only=True, map_location=device)\n",
    "state_dict = full_run_data[\"state_dicts\"][400]\n",
    "\n",
    "model = utils.load_in_state_dict(model, state_dict)"
   ]
  },
  {
   "cell_type": "code",
   "execution_count": 18,
   "id": "0bce5e16",
   "metadata": {},
   "outputs": [
    {
     "name": "stdout",
     "output_type": "stream",
     "text": [
      "gg\n"
     ]
    }
   ],
   "source": [
    "print('gg')"
   ]
  },
  {
   "cell_type": "code",
   "execution_count": null,
   "id": "b6c174a0",
   "metadata": {},
   "outputs": [],
   "source": []
  }
 ],
 "metadata": {
  "kernelspec": {
   "display_name": "deep_learning",
   "language": "python",
   "name": "deep_learning"
  },
  "language_info": {
   "codemirror_mode": {
    "name": "ipython",
    "version": 3
   },
   "file_extension": ".py",
   "mimetype": "text/x-python",
   "name": "python",
   "nbconvert_exporter": "python",
   "pygments_lexer": "ipython3",
   "version": "3.12.7"
  }
 },
 "nbformat": 4,
 "nbformat_minor": 5
}
